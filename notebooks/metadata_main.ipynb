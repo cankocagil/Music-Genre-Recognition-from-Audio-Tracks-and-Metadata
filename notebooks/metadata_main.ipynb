{
 "cells": [
  {
   "cell_type": "code",
   "execution_count": 4,
   "metadata": {},
   "outputs": [],
   "source": [
    "from __future__ import (\n",
    "    print_function,\n",
    "    division\n",
    ")\n",
    "\n",
    "import matplotlib.pyplot as plt \n",
    "import seaborn as sns \n",
    "import pandas as pd\n",
    "import numpy as np\n",
    "import feather\n",
    "import pickle\n",
    "import random\n",
    "import glob\n",
    "import time\n",
    "import sys\n",
    "sys.path.append('../src')\n",
    "import os\n",
    "\n",
    "\n",
    "from sklearn.metrics import (\n",
    "    accuracy_score,\n",
    "    f1_score,\n",
    "    recall_score,\n",
    "    precision_score,\n",
    "    roc_auc_score\n",
    ")\n",
    "\n",
    "from typing import (\n",
    "    Callable,\n",
    "    Iterable,\n",
    "    List\n",
    ")\n",
    "\n",
    "from sklearn.preprocessing import (\n",
    "    StandardScaler,\n",
    "    MinMaxScaler\n",
    ")\n",
    "\n",
    "from tqdm.notebook import tqdm_notebook\n",
    "\n",
    "from tqdm import tqdm\n",
    "\n",
    "from sklearn.utils.validation import (\n",
    "    check_X_y, \n",
    "    check_array\n",
    ")\n",
    "\n",
    "tqdm_notebook.pandas()"
   ]
  },
  {
   "cell_type": "markdown",
   "metadata": {},
   "source": [
    "# Utility Functions"
   ]
  },
  {
   "cell_type": "code",
   "execution_count": 3,
   "metadata": {},
   "outputs": [],
   "source": [
    "def confusion_matrix(\n",
    "    labels:Iterable[list or np.ndarray],\n",
    "    preds:Iterable[list or np.ndarray]\n",
    "    ) -> pd.DataFrame:\n",
    "    \"\"\" Takes desireds/labels and softmax predictions, return a confusion matrix. \"\"\"\n",
    "    label = pd.Series(\n",
    "        labels,\n",
    "        name='Actual'\n",
    "    )\n",
    "    pred = pd.Series(\n",
    "        preds,\n",
    "        name='Predicted'\n",
    "    )\n",
    "    return pd.crosstab(\n",
    "        label,\n",
    "        pred\n",
    "    )\n",
    "\n",
    "\n",
    "def visualize_confusion_matrix(\n",
    "    data:np.ndarray,\n",
    "    normalize:bool = True,\n",
    "    title:str = \" \"\n",
    ") -> None:\n",
    "    \n",
    "    if normalize:\n",
    "        data /= np.sum(data)\n",
    "\n",
    "    plt.figure(figsize=(15,15))\n",
    "    sns.heatmap(data, \n",
    "                fmt='.2%',\n",
    "                cmap = 'Greens')\n",
    "\n",
    "    plt.title(title)\n",
    "    plt.show()\n",
    "\n",
    "\n",
    "def save_obj(obj:object, path:str = None) -> None:\n",
    "    with open(path + '.pkl', 'wb') as f:\n",
    "        pickle.dump(obj, f, pickle.HIGHEST_PROTOCOL)\n",
    "\n",
    "        \n",
    "def load_obj(path:str = None) -> object:\n",
    "    with open(path + '.pkl', 'rb') as f:\n",
    "        return pickle.load(f)\n",
    "\n",
    "\n",
    "def save(data:np.ndarray = None,path:str = None) -> None:\n",
    "    np.save(path + '.npy', data, allow_pickle=True)\n",
    "\n",
    "\n",
    "def load(path:str = None) -> np.ndarray:\n",
    "    return np.load(path + '.npy', allow_pickle=True) "
   ]
  },
  {
   "cell_type": "markdown",
   "metadata": {},
   "source": [
    "# Data Reading & Injection"
   ]
  },
  {
   "cell_type": "code",
   "execution_count": 5,
   "metadata": {},
   "outputs": [],
   "source": [
    "current_dir = os.getcwd()\n",
    "data_dir = os.path.join('../data', 'fma_metadata')\n",
    "result_dir = os.path.join(current_dir, 'results')\n",
    "\n",
    "tracks = pd.read_csv(\n",
    "    os.path.join(data_dir, 'tracks.csv'),\n",
    "    index_col=0, \n",
    "    header = [0, 1]\n",
    ")\n",
    "\n",
    "features = pd.read_csv(\n",
    "    os.path.join(data_dir, \"features.csv\"),\n",
    "    index_col=0,\n",
    "    header = [0, 1, 2]\n",
    ")"
   ]
  },
  {
   "cell_type": "markdown",
   "metadata": {},
   "source": [
    "# Data Splitting"
   ]
  },
  {
   "cell_type": "code",
   "execution_count": 6,
   "metadata": {},
   "outputs": [],
   "source": [
    "small = tracks['set', 'subset'] <= 'small'\n",
    "\n",
    "train = tracks['set', 'split'] == 'training'\n",
    "val = tracks['set', 'split'] == 'validation'\n",
    "test = tracks['set', 'split'] == 'test'\n",
    "\n",
    "y_train = tracks.loc[small & train, ('track', 'genre_top')]\n",
    "y_test = tracks.loc[small & test, ('track', 'genre_top')]\n",
    "X_train = features.loc[small & train, 'mfcc']\n",
    "X_test = features.loc[small & test, 'mfcc']"
   ]
  },
  {
   "cell_type": "code",
   "execution_count": 7,
   "metadata": {},
   "outputs": [
    {
     "data": {
      "text/plain": [
       "((84353, 140), (84353,), (11263, 140), (11263,))"
      ]
     },
     "execution_count": 7,
     "metadata": {},
     "output_type": "execute_result"
    }
   ],
   "source": [
    "X_train.shape, y_train.shape, X_test.shape, y_test.shape"
   ]
  },
  {
   "cell_type": "code",
   "execution_count": 8,
   "metadata": {},
   "outputs": [],
   "source": [
    "feature_cols = X_train.columns"
   ]
  },
  {
   "cell_type": "code",
   "execution_count": 7,
   "metadata": {},
   "outputs": [],
   "source": [
    "undrop_cond_train = y_train.isna() != True\n",
    "y_train = y_train[undrop_cond_train]\n",
    "X_train = X_train[undrop_cond_train]\n",
    "\n",
    "undrop_cond_test = y_test.isna() != True\n",
    "y_test = y_test[undrop_cond_test]\n",
    "X_test = X_test[undrop_cond_test]"
   ]
  },
  {
   "cell_type": "markdown",
   "metadata": {},
   "source": [
    "# Dimension Reduction & Visualization"
   ]
  },
  {
   "cell_type": "code",
   "execution_count": 8,
   "metadata": {},
   "outputs": [],
   "source": [
    "import plotly.io as plt_io\n",
    "import plotly.graph_objects as go\n",
    "\n",
    "\n",
    "def plot_2d(component1:np.ndarray, component2:np.ndarray,  path:str, y = None,) -> None:\n",
    "    \n",
    "    fig = go.Figure(data=go.Scatter(\n",
    "        x = component1,\n",
    "        y = component2,\n",
    "        mode='markers',\n",
    "        marker=dict(\n",
    "            size=20,\n",
    "            color=y, #set color equal to a variable\n",
    "            colorscale='Rainbow', # one of plotly colorscales\n",
    "            showscale=True,\n",
    "            line_width=1\n",
    "        )\n",
    "    ))\n",
    "    fig.update_layout(margin=dict(l=100,r=100,b=100,t=100),width=2000,height=1200)                 \n",
    "    fig.layout.template = 'plotly_dark'\n",
    "    \n",
    "    fig.show()\n",
    "    \n",
    "    \n",
    "    fig.write_image(path)\n",
    "\n",
    "def plot_3d(component1: np.ndarray,\n",
    "            component2 : np.ndarray,\n",
    "            component3 :np.ndarray,\n",
    "            path:str,\n",
    "            y = None) -> None:\n",
    "    \n",
    "    fig = go.Figure(data=[go.Scatter3d(\n",
    "            x=component1,\n",
    "            y=component2,\n",
    "            z=component3,\n",
    "            mode='markers',\n",
    "            marker=dict(\n",
    "                size=10,\n",
    "                color=y,                # set color to an array/list of desired values\n",
    "                colorscale='Rainbow',   # choose a colorscale\n",
    "                opacity=1,\n",
    "                line_width=1\n",
    "            )\n",
    "        )])\n",
    "    # tight layout\n",
    "    fig.update_layout(margin=dict(l=50,r=50,b=50,t=50),width=1800,height=1000)\n",
    "    fig.layout.template = 'plotly_dark'\n",
    "\n",
    "    fig.show()\n",
    "    fig.write_image(path)\n",
    "    "
   ]
  },
  {
   "cell_type": "code",
   "execution_count": 9,
   "metadata": {},
   "outputs": [],
   "source": [
    "from sklearn.preprocessing import LabelEncoder\n",
    "y = LabelEncoder().fit_transform(y_train)"
   ]
  },
  {
   "cell_type": "code",
   "execution_count": 10,
   "metadata": {},
   "outputs": [],
   "source": [
    "from sklearn.decomposition import PCA\n",
    "from sklearn.manifold import TSNE\n",
    "from sklearn.discriminant_analysis import LinearDiscriminantAnalysis as LDA"
   ]
  },
  {
   "cell_type": "markdown",
   "metadata": {},
   "source": [
    "## PCA"
   ]
  },
  {
   "cell_type": "code",
   "execution_count": null,
   "metadata": {},
   "outputs": [],
   "source": [
    "x = X_train.copy()\n",
    "pca = PCA(n_components=3)\n",
    "principalComponents = pca.fit_transform(x)\n",
    "\n",
    "principal = pd.DataFrame(\n",
    "    data = principalComponents,\n",
    "    columns = [\n",
    "        'PC 1',\n",
    "        'PC 2',\n",
    "        'PC 3'\n",
    "    ]\n",
    ")\n",
    "\n",
    "plot_2d(\n",
    "    principalComponents[:, 0],\n",
    "    principalComponents[:, 1],\n",
    "    y = y,\n",
    "    path = os.path.join(current_dir, result_dir, 'pca_2d.png')\n",
    ")"
   ]
  },
  {
   "cell_type": "code",
   "execution_count": null,
   "metadata": {},
   "outputs": [],
   "source": [
    "plot_3d(\n",
    "    principalComponents[:, 0],\n",
    "    principalComponents[:, 1],\n",
    "    principalComponents[:, 2],\n",
    "    path = os.path.join(current_dir, result_dir, 'pca_3d.png'),\n",
    "    y = y\n",
    ")"
   ]
  },
  {
   "cell_type": "markdown",
   "metadata": {},
   "source": [
    "## Linear Discriminant Analysis"
   ]
  },
  {
   "cell_type": "code",
   "execution_count": null,
   "metadata": {},
   "outputs": [],
   "source": [
    "x = X_train.copy()\n",
    "lda = LDA(n_components=3)\n",
    "embedding = lda.fit_transform(x, y)\n",
    "\n",
    "plot_3d(\n",
    "    embedding[:, 0],\n",
    "    embedding[:, 1],\n",
    "    embedding[:, 2],\n",
    "    path = os.path.join(current_dir, result_dir, 'lda_3d.png'),\n",
    "    y = y\n",
    ")"
   ]
  },
  {
   "cell_type": "markdown",
   "metadata": {},
   "source": [
    "## Manifold Learning : T-distributed Stochastic Neighbor Embedding"
   ]
  },
  {
   "cell_type": "code",
   "execution_count": null,
   "metadata": {},
   "outputs": [],
   "source": [
    "x = X_train.copy()\n",
    "pca = PCA(n_components=100)\n",
    "principalComponents = pca.fit_transform(x)\n",
    "\n",
    "tsne = TSNE(n_components=3)\n",
    "embedding = tsne.fit_transform(principalComponents)\n",
    "\n",
    "plot_3d(\n",
    "    embedding[:, 0],\n",
    "    embedding[:, 1],\n",
    "    embedding[:, 2],\n",
    "    path = os.path.join(current_dir, result_dir, 'TSNE_3d.png'),\n",
    "    y = y\n",
    ")"
   ]
  },
  {
   "cell_type": "markdown",
   "metadata": {},
   "source": [
    "# Modelling "
   ]
  },
  {
   "cell_type": "code",
   "execution_count": 12,
   "metadata": {},
   "outputs": [
    {
     "data": {
      "text/plain": [
       "array(['Blues', 'Classical', 'Country', 'Easy Listening', 'Electronic',\n",
       "       'Experimental', 'Folk', 'Hip-Hop', 'Instrumental', 'International',\n",
       "       'Jazz', 'Old-Time / Historic', 'Pop', 'Rock', 'Soul-RnB', 'Spoken'],\n",
       "      dtype=object)"
      ]
     },
     "execution_count": 12,
     "metadata": {},
     "output_type": "execute_result"
    }
   ],
   "source": [
    "unique_genres = np.unique(y_train)\n",
    "unique_genres"
   ]
  },
  {
   "cell_type": "code",
   "execution_count": 9,
   "metadata": {},
   "outputs": [],
   "source": [
    "from sklearn.ensemble import (\n",
    "    RandomForestClassifier,\n",
    "    VotingClassifier,\n",
    "    BaggingClassifier,\n",
    "    ExtraTreesClassifier,\n",
    "    AdaBoostClassifier,\n",
    "    GradientBoostingClassifier,\n",
    ")\n",
    "\n",
    "from sklearn.linear_model import (\n",
    "    LogisticRegression, \n",
    "    Perceptron,\n",
    "    SGDClassifier,\n",
    "    RidgeClassifier,\n",
    ")\n",
    "\n",
    "from sklearn.svm import (\n",
    "    SVC, \n",
    "    LinearSVC,\n",
    "    NuSVC\n",
    ")\n",
    "\n",
    "\n",
    "from sklearn.neighbors import (\n",
    "    KNeighborsClassifier,\n",
    "    NearestCentroid\n",
    ")\n",
    "\n",
    "from sklearn.neural_network import MLPClassifier\n",
    "from sklearn.tree import DecisionTreeClassifier\n",
    "from sklearn.naive_bayes import GaussianNB"
   ]
  },
  {
   "cell_type": "code",
   "execution_count": 10,
   "metadata": {},
   "outputs": [],
   "source": [
    "models = {\n",
    "    RandomForestClassifier.__name__ : RandomForestClassifier(),\n",
    "    BaggingClassifier.__name__: BaggingClassifier(),\n",
    "    ExtraTreesClassifier.__name__ :ExtraTreesClassifier(),\n",
    "    AdaBoostClassifier.__name__: AdaBoostClassifier(),\n",
    "    #GradientBoostingClassifier.__name__: GradientBoostingClassifier(),\n",
    "    LogisticRegression.__name__: LogisticRegression(),\n",
    "    Perceptron.__name__: Perceptron(),\n",
    "    SGDClassifier.__name__: SGDClassifier(),\n",
    "    RidgeClassifier.__name__: RidgeClassifier(),\n",
    "    SVC.__name__: SVC(),\n",
    "    LinearSVC.__name__: LinearSVC(),\n",
    "    #NuSVC.__name__: NuSVC(),\n",
    "    KNeighborsClassifier.__name__: KNeighborsClassifier(),\n",
    "    NearestCentroid.__name__: NearestCentroid(),\n",
    "    MLPClassifier.__name__: MLPClassifier(),\n",
    "    DecisionTreeClassifier.__name__: DecisionTreeClassifier(),\n",
    "    GaussianNB.__name__: GaussianNB(),\n",
    "}\n",
    "\n",
    "metrics = {\n",
    "    accuracy_score.__name__ : accuracy_score, \n",
    "    recall_score.__name__ : recall_score, \n",
    "    precision_score.__name__: precision_score,\n",
    "    f1_score.__name__ : f1_score, \n",
    "    #roc_auc_score.__name__ : roc_auc_score\n",
    "}"
   ]
  },
  {
   "cell_type": "markdown",
   "metadata": {},
   "source": [
    "## Data Scaling"
   ]
  },
  {
   "cell_type": "code",
   "execution_count": 31,
   "metadata": {},
   "outputs": [],
   "source": [
    "scaler = StandardScaler() #or MinMax\n",
    "scaler.fit(X_train)\n",
    "X_train = scaler.transform(X_train)\n",
    "X_test = scaler.transform(X_test)"
   ]
  },
  {
   "cell_type": "markdown",
   "metadata": {},
   "source": [
    "## Model Selection Loop"
   ]
  },
  {
   "cell_type": "code",
   "execution_count": 142,
   "metadata": {},
   "outputs": [
    {
     "name": "stdout",
     "output_type": "stream",
     "text": [
      "RandomForestClassifier is fitting.\n",
      "BaggingClassifier is fitting.\n",
      "ExtraTreesClassifier is fitting.\n",
      "AdaBoostClassifier is fitting.\n",
      "LogisticRegression is fitting.\n"
     ]
    },
    {
     "name": "stderr",
     "output_type": "stream",
     "text": [
      "/Users/cankocagil/miniforge3/envs/rl_bot/lib/python3.8/site-packages/sklearn/linear_model/_logistic.py:762: ConvergenceWarning:\n",
      "\n",
      "lbfgs failed to converge (status=1):\n",
      "STOP: TOTAL NO. of ITERATIONS REACHED LIMIT.\n",
      "\n",
      "Increase the number of iterations (max_iter) or scale the data as shown in:\n",
      "    https://scikit-learn.org/stable/modules/preprocessing.html\n",
      "Please also refer to the documentation for alternative solver options:\n",
      "    https://scikit-learn.org/stable/modules/linear_model.html#logistic-regression\n",
      "\n"
     ]
    },
    {
     "name": "stdout",
     "output_type": "stream",
     "text": [
      "Perceptron is fitting.\n",
      "SGDClassifier is fitting.\n",
      "RidgeClassifier is fitting.\n",
      "SVC is fitting.\n",
      "LinearSVC is fitting.\n"
     ]
    },
    {
     "name": "stderr",
     "output_type": "stream",
     "text": [
      "/Users/cankocagil/miniforge3/envs/rl_bot/lib/python3.8/site-packages/sklearn/svm/_base.py:976: ConvergenceWarning:\n",
      "\n",
      "Liblinear failed to converge, increase the number of iterations.\n",
      "\n"
     ]
    },
    {
     "name": "stdout",
     "output_type": "stream",
     "text": [
      "KNeighborsClassifier is fitting.\n",
      "NearestCentroid is fitting.\n",
      "MLPClassifier is fitting.\n"
     ]
    },
    {
     "name": "stderr",
     "output_type": "stream",
     "text": [
      "/Users/cankocagil/miniforge3/envs/rl_bot/lib/python3.8/site-packages/sklearn/neural_network/_multilayer_perceptron.py:582: ConvergenceWarning:\n",
      "\n",
      "Stochastic Optimizer: Maximum iterations (200) reached and the optimization hasn't converged yet.\n",
      "\n"
     ]
    },
    {
     "name": "stdout",
     "output_type": "stream",
     "text": [
      "DecisionTreeClassifier is fitting.\n",
      "GaussianNB is fitting.\n"
     ]
    }
   ],
   "source": [
    "scores = {}\n",
    "\n",
    "for model_name, model in models.items():\n",
    "    print(f\"{model_name} is fitting.\" )\n",
    "\n",
    "    model_cache = {}\n",
    "    since = time.time()\n",
    "\n",
    "    model.fit(\n",
    "        X_train,\n",
    "        y_train\n",
    "    )\n",
    "\n",
    "    model_cache['fitted_time(s)'] = time.time() - since\n",
    "\n",
    "    preds = model.predict(X_test)\n",
    "\n",
    "    \n",
    "    for metric_name, metric in metrics.items():\n",
    "\n",
    "        if any(\n",
    "            [\n",
    "                metric_name == 'precision_score',\n",
    "                metric_name == 'recall_score',\n",
    "                metric_name == 'f1_score'\n",
    "            ]\n",
    "        ):\n",
    "            model_cache[metric_name] = metric(\n",
    "                y_test,\n",
    "                preds,\n",
    "                average='micro'\n",
    "            )\n",
    "\n",
    "        else:\n",
    "            model_cache[metric_name] = metric(\n",
    "                y_test,\n",
    "                preds\n",
    "            )\n",
    "\n",
    "\n",
    "    scores[model_name] = model_cache"
   ]
  },
  {
   "cell_type": "code",
   "execution_count": null,
   "metadata": {},
   "outputs": [],
   "source": []
  },
  {
   "cell_type": "code",
   "execution_count": null,
   "metadata": {},
   "outputs": [],
   "source": [
    "df_scores = pd.DataFrame(scores).T\n",
    "\n",
    "df_scores = df_scores[\n",
    "    [\n",
    "       'accuracy_score',\n",
    "       'precision_score',\n",
    "       'recall_score',\n",
    "       'f1_score',\n",
    "       'fitted_time(s)'\n",
    "    ]\n",
    "].sort_values('accuracy_score', ascending = False)"
   ]
  },
  {
   "cell_type": "code",
   "execution_count": 150,
   "metadata": {},
   "outputs": [],
   "source": [
    "df_scores.to_csv(\n",
    "    os.path.join(result_dir, 'ml-baseline-scores.csv')\n",
    ")"
   ]
  },
  {
   "cell_type": "markdown",
   "metadata": {},
   "source": [
    "# Cross-Validation"
   ]
  },
  {
   "cell_type": "code",
   "execution_count": 32,
   "metadata": {},
   "outputs": [],
   "source": [
    "from sklearn.model_selection import cross_val_score\n",
    "from sklearn.metrics import classification_report"
   ]
  },
  {
   "cell_type": "code",
   "execution_count": 39,
   "metadata": {},
   "outputs": [
    {
     "name": "stderr",
     "output_type": "stream",
     "text": [
      "/Users/cankocagil/miniforge3/envs/rl_bot/lib/python3.8/site-packages/sklearn/neural_network/_multilayer_perceptron.py:587: UserWarning: Training interrupted by user.\n",
      "  warnings.warn(\"Training interrupted by user.\")\n",
      "/Users/cankocagil/miniforge3/envs/rl_bot/lib/python3.8/site-packages/sklearn/neural_network/_multilayer_perceptron.py:582: ConvergenceWarning: Stochastic Optimizer: Maximum iterations (200) reached and the optimization hasn't converged yet.\n",
      "  warnings.warn(\n",
      "/Users/cankocagil/miniforge3/envs/rl_bot/lib/python3.8/site-packages/sklearn/neural_network/_multilayer_perceptron.py:582: ConvergenceWarning: Stochastic Optimizer: Maximum iterations (200) reached and the optimization hasn't converged yet.\n",
      "  warnings.warn(\n",
      "/Users/cankocagil/miniforge3/envs/rl_bot/lib/python3.8/site-packages/sklearn/neural_network/_multilayer_perceptron.py:582: ConvergenceWarning: Stochastic Optimizer: Maximum iterations (200) reached and the optimization hasn't converged yet.\n",
      "  warnings.warn(\n",
      "/Users/cankocagil/miniforge3/envs/rl_bot/lib/python3.8/site-packages/sklearn/neural_network/_multilayer_perceptron.py:582: ConvergenceWarning: Stochastic Optimizer: Maximum iterations (200) reached and the optimization hasn't converged yet.\n",
      "  warnings.warn(\n"
     ]
    }
   ],
   "source": [
    "scores = cross_val_score(\n",
    "    MLPClassifier(\n",
    "        hidden_layer_sizes= (64, ),\n",
    "        max_iter=200,\n",
    "        warm_start=True,\n",
    "    ),\n",
    "    X_train,\n",
    "    y_train, \n",
    "    cv=5,\n",
    "    #return_estimator=True\n",
    ")"
   ]
  },
  {
   "cell_type": "code",
   "execution_count": 40,
   "metadata": {},
   "outputs": [
    {
     "name": "stdout",
     "output_type": "stream",
     "text": [
      " Multi-layer Percoptron Classifier has 0.56 accuracy with a standard deviation of 0.02\n"
     ]
    }
   ],
   "source": [
    "print(\" Multi-layer Percoptron Classifier has %0.2f accuracy with a standard deviation of %0.2f\" % (scores.mean(), scores.std()))"
   ]
  },
  {
   "cell_type": "code",
   "execution_count": 38,
   "metadata": {},
   "outputs": [
    {
     "name": "stdout",
     "output_type": "stream",
     "text": [
      " Support Vector Classifier has 0.60 accuracy with a standard deviation of 0.02\n"
     ]
    }
   ],
   "source": [
    "scores = cross_val_score(\n",
    "    SVC(\n",
    "        kernel = 'rbf'\n",
    "    ),\n",
    "    X_train, \n",
    "    y_train,\n",
    "    cv=5\n",
    ")\n",
    "\n",
    "print(\" Support Vector Classifier has %0.2f accuracy with a standard deviation of %0.2f\" % (scores.mean(), scores.std()))"
   ]
  },
  {
   "cell_type": "markdown",
   "metadata": {},
   "source": [
    "# Ensemble Learning"
   ]
  },
  {
   "cell_type": "code",
   "execution_count": 27,
   "metadata": {},
   "outputs": [
    {
     "name": "stdout",
     "output_type": "stream",
     "text": [
      "VotingClassifier(estimators=[('MLP', MLPClassifier()), ('SVC', SVC())]) is fitting.\n"
     ]
    },
    {
     "name": "stderr",
     "output_type": "stream",
     "text": [
      "/Users/cankocagil/miniforge3/envs/rl_bot/lib/python3.8/site-packages/sklearn/neural_network/_multilayer_perceptron.py:582: ConvergenceWarning: Stochastic Optimizer: Maximum iterations (200) reached and the optimization hasn't converged yet.\n",
      "  warnings.warn(\n"
     ]
    },
    {
     "name": "stdout",
     "output_type": "stream",
     "text": [
      "VotingClassifier(estimators=[('KNN', KNeighborsClassifier()),\n",
      "                             ('RFC',\n",
      "                              RandomForestClassifier(n_estimators=50,\n",
      "                                                     random_state=1)),\n",
      "                             ('GaussianNB', GaussianNB())]) is fitting.\n",
      "VotingClassifier(estimators=[('MLP', MLPClassifier()),\n",
      "                             ('RFC',\n",
      "                              RandomForestClassifier(n_estimators=50,\n",
      "                                                     random_state=1)),\n",
      "                             ('SVC', SVC())]) is fitting.\n"
     ]
    },
    {
     "name": "stderr",
     "output_type": "stream",
     "text": [
      "/Users/cankocagil/miniforge3/envs/rl_bot/lib/python3.8/site-packages/sklearn/neural_network/_multilayer_perceptron.py:582: ConvergenceWarning: Stochastic Optimizer: Maximum iterations (200) reached and the optimization hasn't converged yet.\n",
      "  warnings.warn(\n"
     ]
    }
   ],
   "source": [
    "ensemble_models = [\n",
    "    #GradientBoostingClassifier(),\n",
    "    VotingClassifier(\n",
    "        estimators = [\n",
    "            ('MLP', MLPClassifier()),\n",
    "            ('SVC', SVC(kernel = 'rbf'))\n",
    "        ]\n",
    "    ),\n",
    "    VotingClassifier(\n",
    "        estimators = [\n",
    "            ('KNN', KNeighborsClassifier()),\n",
    "            ('RFC', RandomForestClassifier(n_estimators=50, random_state=1)),\n",
    "            ('GaussianNB', GaussianNB())\n",
    "        ]\n",
    "    ),\n",
    "    VotingClassifier(\n",
    "        estimators = [\n",
    "            ('MLP', MLPClassifier()),\n",
    "            ('RFC', RandomForestClassifier(n_estimators=50, random_state=1)),\n",
    "            ('SVC', SVC(kernel = 'rbf'))\n",
    "        ]\n",
    "    )\n",
    "]\n",
    "\n",
    "\n",
    "scores = {}\n",
    "\n",
    "for model in ensemble_models:\n",
    "    print(f\"{model} is fitting.\" )\n",
    "\n",
    "    model_cache = {}\n",
    "    since = time.time()\n",
    "\n",
    "    model.fit(\n",
    "        X_train,\n",
    "        y_train\n",
    "    )\n",
    "\n",
    "    model_cache['fitted_time(s)'] = time.time() - since\n",
    "\n",
    "    preds = model.predict(X_test)\n",
    "\n",
    "    \n",
    "    for metric_name, metric in metrics.items():\n",
    "\n",
    "        if any(\n",
    "            [\n",
    "                metric_name == 'precision_score',\n",
    "                metric_name == 'recall_score',\n",
    "                metric_name == 'f1_score'\n",
    "            ]\n",
    "        ):\n",
    "            model_cache[metric_name] = metric(\n",
    "                y_test,\n",
    "                preds,\n",
    "                average='micro'\n",
    "            )\n",
    "\n",
    "        else:\n",
    "            model_cache[metric_name] = metric(\n",
    "                y_test,\n",
    "                preds\n",
    "            )\n",
    "\n",
    "\n",
    "    scores[str(model)] = model_cache\n"
   ]
  },
  {
   "cell_type": "code",
   "execution_count": 29,
   "metadata": {},
   "outputs": [
    {
     "data": {
      "text/html": [
       "<div>\n",
       "<style scoped>\n",
       "    .dataframe tbody tr th:only-of-type {\n",
       "        vertical-align: middle;\n",
       "    }\n",
       "\n",
       "    .dataframe tbody tr th {\n",
       "        vertical-align: top;\n",
       "    }\n",
       "\n",
       "    .dataframe thead th {\n",
       "        text-align: right;\n",
       "    }\n",
       "</style>\n",
       "<table border=\"1\" class=\"dataframe\">\n",
       "  <thead>\n",
       "    <tr style=\"text-align: right;\">\n",
       "      <th></th>\n",
       "      <th>accuracy_score</th>\n",
       "      <th>precision_score</th>\n",
       "      <th>recall_score</th>\n",
       "      <th>f1_score</th>\n",
       "      <th>fitted_time(s)</th>\n",
       "    </tr>\n",
       "  </thead>\n",
       "  <tbody>\n",
       "    <tr>\n",
       "      <th>VotingClassifier(estimators=[('MLP', MLPClassifier()), ('SVC', SVC())])</th>\n",
       "      <td>0.586952</td>\n",
       "      <td>0.586952</td>\n",
       "      <td>0.586952</td>\n",
       "      <td>0.586952</td>\n",
       "      <td>180.243665</td>\n",
       "    </tr>\n",
       "    <tr>\n",
       "      <th>VotingClassifier(estimators=[('MLP', MLPClassifier()),\\n                             ('RFC',\\n                              RandomForestClassifier(n_estimators=50,\\n                                                     random_state=1)),\\n                             ('SVC', SVC())])</th>\n",
       "      <td>0.583518</td>\n",
       "      <td>0.583518</td>\n",
       "      <td>0.583518</td>\n",
       "      <td>0.583518</td>\n",
       "      <td>198.781958</td>\n",
       "    </tr>\n",
       "    <tr>\n",
       "      <th>VotingClassifier(estimators=[('KNN', KNeighborsClassifier()),\\n                             ('RFC',\\n                              RandomForestClassifier(n_estimators=50,\\n                                                     random_state=1)),\\n                             ('GaussianNB', GaussianNB())])</th>\n",
       "      <td>0.531206</td>\n",
       "      <td>0.531206</td>\n",
       "      <td>0.531206</td>\n",
       "      <td>0.531206</td>\n",
       "      <td>19.031451</td>\n",
       "    </tr>\n",
       "  </tbody>\n",
       "</table>\n",
       "</div>"
      ],
      "text/plain": [
       "                                                    accuracy_score  \\\n",
       "VotingClassifier(estimators=[('MLP', MLPClassif...        0.586952   \n",
       "VotingClassifier(estimators=[('MLP', MLPClassif...        0.583518   \n",
       "VotingClassifier(estimators=[('KNN', KNeighbors...        0.531206   \n",
       "\n",
       "                                                    precision_score  \\\n",
       "VotingClassifier(estimators=[('MLP', MLPClassif...         0.586952   \n",
       "VotingClassifier(estimators=[('MLP', MLPClassif...         0.583518   \n",
       "VotingClassifier(estimators=[('KNN', KNeighbors...         0.531206   \n",
       "\n",
       "                                                    recall_score  f1_score  \\\n",
       "VotingClassifier(estimators=[('MLP', MLPClassif...      0.586952  0.586952   \n",
       "VotingClassifier(estimators=[('MLP', MLPClassif...      0.583518  0.583518   \n",
       "VotingClassifier(estimators=[('KNN', KNeighbors...      0.531206  0.531206   \n",
       "\n",
       "                                                    fitted_time(s)  \n",
       "VotingClassifier(estimators=[('MLP', MLPClassif...      180.243665  \n",
       "VotingClassifier(estimators=[('MLP', MLPClassif...      198.781958  \n",
       "VotingClassifier(estimators=[('KNN', KNeighbors...       19.031451  "
      ]
     },
     "execution_count": 29,
     "metadata": {},
     "output_type": "execute_result"
    }
   ],
   "source": [
    "df_scores = pd.DataFrame(scores).T\n",
    "\n",
    "df_scores = df_scores[\n",
    "    [\n",
    "       'accuracy_score',\n",
    "       'precision_score',\n",
    "       'recall_score',\n",
    "       'f1_score',\n",
    "       'fitted_time(s)'\n",
    "    ]\n",
    "].sort_values('accuracy_score', ascending = False)\n",
    "df_scores"
   ]
  },
  {
   "cell_type": "code",
   "execution_count": 30,
   "metadata": {},
   "outputs": [],
   "source": [
    "df_scores.to_csv(\n",
    "    os.path.join(result_dir, 'ml-ensemble-baseline-scores.csv')\n",
    ")"
   ]
  },
  {
   "cell_type": "markdown",
   "metadata": {},
   "source": [
    "# Confusion Matrix of Best Model"
   ]
  },
  {
   "cell_type": "code",
   "execution_count": 92,
   "metadata": {},
   "outputs": [
    {
     "data": {
      "text/html": [
       "<div>\n",
       "<style scoped>\n",
       "    .dataframe tbody tr th:only-of-type {\n",
       "        vertical-align: middle;\n",
       "    }\n",
       "\n",
       "    .dataframe tbody tr th {\n",
       "        vertical-align: top;\n",
       "    }\n",
       "\n",
       "    .dataframe thead th {\n",
       "        text-align: right;\n",
       "    }\n",
       "</style>\n",
       "<table border=\"1\" class=\"dataframe\">\n",
       "  <thead>\n",
       "    <tr style=\"text-align: right;\">\n",
       "      <th>Predicted</th>\n",
       "      <th>Blues</th>\n",
       "      <th>Classical</th>\n",
       "      <th>Country</th>\n",
       "      <th>Electronic</th>\n",
       "      <th>Experimental</th>\n",
       "      <th>Folk</th>\n",
       "      <th>Hip-Hop</th>\n",
       "      <th>Instrumental</th>\n",
       "      <th>International</th>\n",
       "      <th>Jazz</th>\n",
       "      <th>Old-Time / Historic</th>\n",
       "      <th>Pop</th>\n",
       "      <th>Rock</th>\n",
       "      <th>Soul-RnB</th>\n",
       "      <th>Spoken</th>\n",
       "    </tr>\n",
       "    <tr>\n",
       "      <th>Actual</th>\n",
       "      <th></th>\n",
       "      <th></th>\n",
       "      <th></th>\n",
       "      <th></th>\n",
       "      <th></th>\n",
       "      <th></th>\n",
       "      <th></th>\n",
       "      <th></th>\n",
       "      <th></th>\n",
       "      <th></th>\n",
       "      <th></th>\n",
       "      <th></th>\n",
       "      <th></th>\n",
       "      <th></th>\n",
       "      <th></th>\n",
       "    </tr>\n",
       "  </thead>\n",
       "  <tbody>\n",
       "    <tr>\n",
       "      <th>Blues</th>\n",
       "      <td>0</td>\n",
       "      <td>0</td>\n",
       "      <td>0</td>\n",
       "      <td>0</td>\n",
       "      <td>9</td>\n",
       "      <td>0</td>\n",
       "      <td>0</td>\n",
       "      <td>0</td>\n",
       "      <td>0</td>\n",
       "      <td>0</td>\n",
       "      <td>0</td>\n",
       "      <td>0</td>\n",
       "      <td>4</td>\n",
       "      <td>0</td>\n",
       "      <td>0</td>\n",
       "    </tr>\n",
       "    <tr>\n",
       "      <th>Classical</th>\n",
       "      <td>0</td>\n",
       "      <td>72</td>\n",
       "      <td>0</td>\n",
       "      <td>0</td>\n",
       "      <td>10</td>\n",
       "      <td>1</td>\n",
       "      <td>0</td>\n",
       "      <td>2</td>\n",
       "      <td>1</td>\n",
       "      <td>0</td>\n",
       "      <td>0</td>\n",
       "      <td>1</td>\n",
       "      <td>0</td>\n",
       "      <td>0</td>\n",
       "      <td>0</td>\n",
       "    </tr>\n",
       "    <tr>\n",
       "      <th>Country</th>\n",
       "      <td>0</td>\n",
       "      <td>0</td>\n",
       "      <td>0</td>\n",
       "      <td>1</td>\n",
       "      <td>0</td>\n",
       "      <td>1</td>\n",
       "      <td>5</td>\n",
       "      <td>0</td>\n",
       "      <td>1</td>\n",
       "      <td>0</td>\n",
       "      <td>0</td>\n",
       "      <td>0</td>\n",
       "      <td>10</td>\n",
       "      <td>0</td>\n",
       "      <td>0</td>\n",
       "    </tr>\n",
       "    <tr>\n",
       "      <th>Easy Listening</th>\n",
       "      <td>0</td>\n",
       "      <td>2</td>\n",
       "      <td>0</td>\n",
       "      <td>0</td>\n",
       "      <td>3</td>\n",
       "      <td>0</td>\n",
       "      <td>0</td>\n",
       "      <td>1</td>\n",
       "      <td>0</td>\n",
       "      <td>0</td>\n",
       "      <td>0</td>\n",
       "      <td>0</td>\n",
       "      <td>0</td>\n",
       "      <td>0</td>\n",
       "      <td>0</td>\n",
       "    </tr>\n",
       "    <tr>\n",
       "      <th>Electronic</th>\n",
       "      <td>0</td>\n",
       "      <td>6</td>\n",
       "      <td>0</td>\n",
       "      <td>484</td>\n",
       "      <td>214</td>\n",
       "      <td>6</td>\n",
       "      <td>47</td>\n",
       "      <td>4</td>\n",
       "      <td>11</td>\n",
       "      <td>1</td>\n",
       "      <td>1</td>\n",
       "      <td>6</td>\n",
       "      <td>59</td>\n",
       "      <td>0</td>\n",
       "      <td>0</td>\n",
       "    </tr>\n",
       "    <tr>\n",
       "      <th>Experimental</th>\n",
       "      <td>0</td>\n",
       "      <td>4</td>\n",
       "      <td>0</td>\n",
       "      <td>98</td>\n",
       "      <td>709</td>\n",
       "      <td>37</td>\n",
       "      <td>17</td>\n",
       "      <td>10</td>\n",
       "      <td>18</td>\n",
       "      <td>8</td>\n",
       "      <td>2</td>\n",
       "      <td>20</td>\n",
       "      <td>159</td>\n",
       "      <td>2</td>\n",
       "      <td>1</td>\n",
       "    </tr>\n",
       "    <tr>\n",
       "      <th>Folk</th>\n",
       "      <td>0</td>\n",
       "      <td>1</td>\n",
       "      <td>0</td>\n",
       "      <td>4</td>\n",
       "      <td>84</td>\n",
       "      <td>88</td>\n",
       "      <td>2</td>\n",
       "      <td>0</td>\n",
       "      <td>23</td>\n",
       "      <td>4</td>\n",
       "      <td>4</td>\n",
       "      <td>5</td>\n",
       "      <td>84</td>\n",
       "      <td>0</td>\n",
       "      <td>0</td>\n",
       "    </tr>\n",
       "    <tr>\n",
       "      <th>Hip-Hop</th>\n",
       "      <td>0</td>\n",
       "      <td>0</td>\n",
       "      <td>0</td>\n",
       "      <td>65</td>\n",
       "      <td>30</td>\n",
       "      <td>1</td>\n",
       "      <td>216</td>\n",
       "      <td>0</td>\n",
       "      <td>4</td>\n",
       "      <td>0</td>\n",
       "      <td>0</td>\n",
       "      <td>0</td>\n",
       "      <td>7</td>\n",
       "      <td>0</td>\n",
       "      <td>0</td>\n",
       "    </tr>\n",
       "    <tr>\n",
       "      <th>Instrumental</th>\n",
       "      <td>0</td>\n",
       "      <td>12</td>\n",
       "      <td>0</td>\n",
       "      <td>41</td>\n",
       "      <td>116</td>\n",
       "      <td>53</td>\n",
       "      <td>3</td>\n",
       "      <td>16</td>\n",
       "      <td>1</td>\n",
       "      <td>1</td>\n",
       "      <td>11</td>\n",
       "      <td>6</td>\n",
       "      <td>49</td>\n",
       "      <td>0</td>\n",
       "      <td>0</td>\n",
       "    </tr>\n",
       "    <tr>\n",
       "      <th>International</th>\n",
       "      <td>0</td>\n",
       "      <td>4</td>\n",
       "      <td>1</td>\n",
       "      <td>14</td>\n",
       "      <td>25</td>\n",
       "      <td>11</td>\n",
       "      <td>14</td>\n",
       "      <td>0</td>\n",
       "      <td>47</td>\n",
       "      <td>0</td>\n",
       "      <td>0</td>\n",
       "      <td>0</td>\n",
       "      <td>11</td>\n",
       "      <td>0</td>\n",
       "      <td>1</td>\n",
       "    </tr>\n",
       "    <tr>\n",
       "      <th>Jazz</th>\n",
       "      <td>0</td>\n",
       "      <td>2</td>\n",
       "      <td>0</td>\n",
       "      <td>5</td>\n",
       "      <td>20</td>\n",
       "      <td>3</td>\n",
       "      <td>0</td>\n",
       "      <td>0</td>\n",
       "      <td>3</td>\n",
       "      <td>9</td>\n",
       "      <td>0</td>\n",
       "      <td>0</td>\n",
       "      <td>5</td>\n",
       "      <td>0</td>\n",
       "      <td>0</td>\n",
       "    </tr>\n",
       "    <tr>\n",
       "      <th>Old-Time / Historic</th>\n",
       "      <td>0</td>\n",
       "      <td>0</td>\n",
       "      <td>0</td>\n",
       "      <td>0</td>\n",
       "      <td>2</td>\n",
       "      <td>0</td>\n",
       "      <td>0</td>\n",
       "      <td>0</td>\n",
       "      <td>0</td>\n",
       "      <td>0</td>\n",
       "      <td>52</td>\n",
       "      <td>1</td>\n",
       "      <td>0</td>\n",
       "      <td>0</td>\n",
       "      <td>0</td>\n",
       "    </tr>\n",
       "    <tr>\n",
       "      <th>Pop</th>\n",
       "      <td>1</td>\n",
       "      <td>1</td>\n",
       "      <td>0</td>\n",
       "      <td>64</td>\n",
       "      <td>42</td>\n",
       "      <td>22</td>\n",
       "      <td>10</td>\n",
       "      <td>1</td>\n",
       "      <td>2</td>\n",
       "      <td>1</td>\n",
       "      <td>0</td>\n",
       "      <td>4</td>\n",
       "      <td>56</td>\n",
       "      <td>0</td>\n",
       "      <td>0</td>\n",
       "    </tr>\n",
       "    <tr>\n",
       "      <th>Rock</th>\n",
       "      <td>0</td>\n",
       "      <td>2</td>\n",
       "      <td>0</td>\n",
       "      <td>44</td>\n",
       "      <td>170</td>\n",
       "      <td>46</td>\n",
       "      <td>15</td>\n",
       "      <td>1</td>\n",
       "      <td>10</td>\n",
       "      <td>1</td>\n",
       "      <td>0</td>\n",
       "      <td>4</td>\n",
       "      <td>1168</td>\n",
       "      <td>0</td>\n",
       "      <td>3</td>\n",
       "    </tr>\n",
       "    <tr>\n",
       "      <th>Soul-RnB</th>\n",
       "      <td>0</td>\n",
       "      <td>0</td>\n",
       "      <td>0</td>\n",
       "      <td>10</td>\n",
       "      <td>11</td>\n",
       "      <td>0</td>\n",
       "      <td>1</td>\n",
       "      <td>0</td>\n",
       "      <td>0</td>\n",
       "      <td>0</td>\n",
       "      <td>0</td>\n",
       "      <td>0</td>\n",
       "      <td>21</td>\n",
       "      <td>0</td>\n",
       "      <td>0</td>\n",
       "    </tr>\n",
       "    <tr>\n",
       "      <th>Spoken</th>\n",
       "      <td>0</td>\n",
       "      <td>0</td>\n",
       "      <td>0</td>\n",
       "      <td>0</td>\n",
       "      <td>16</td>\n",
       "      <td>1</td>\n",
       "      <td>2</td>\n",
       "      <td>0</td>\n",
       "      <td>2</td>\n",
       "      <td>0</td>\n",
       "      <td>0</td>\n",
       "      <td>1</td>\n",
       "      <td>3</td>\n",
       "      <td>0</td>\n",
       "      <td>6</td>\n",
       "    </tr>\n",
       "  </tbody>\n",
       "</table>\n",
       "</div>"
      ],
      "text/plain": [
       "Predicted            Blues  Classical  Country  Electronic  Experimental  \\\n",
       "Actual                                                                     \n",
       "Blues                    0          0        0           0             9   \n",
       "Classical                0         72        0           0            10   \n",
       "Country                  0          0        0           1             0   \n",
       "Easy Listening           0          2        0           0             3   \n",
       "Electronic               0          6        0         484           214   \n",
       "Experimental             0          4        0          98           709   \n",
       "Folk                     0          1        0           4            84   \n",
       "Hip-Hop                  0          0        0          65            30   \n",
       "Instrumental             0         12        0          41           116   \n",
       "International            0          4        1          14            25   \n",
       "Jazz                     0          2        0           5            20   \n",
       "Old-Time / Historic      0          0        0           0             2   \n",
       "Pop                      1          1        0          64            42   \n",
       "Rock                     0          2        0          44           170   \n",
       "Soul-RnB                 0          0        0          10            11   \n",
       "Spoken                   0          0        0           0            16   \n",
       "\n",
       "Predicted            Folk  Hip-Hop  Instrumental  International  Jazz  \\\n",
       "Actual                                                                  \n",
       "Blues                   0        0             0              0     0   \n",
       "Classical               1        0             2              1     0   \n",
       "Country                 1        5             0              1     0   \n",
       "Easy Listening          0        0             1              0     0   \n",
       "Electronic              6       47             4             11     1   \n",
       "Experimental           37       17            10             18     8   \n",
       "Folk                   88        2             0             23     4   \n",
       "Hip-Hop                 1      216             0              4     0   \n",
       "Instrumental           53        3            16              1     1   \n",
       "International          11       14             0             47     0   \n",
       "Jazz                    3        0             0              3     9   \n",
       "Old-Time / Historic     0        0             0              0     0   \n",
       "Pop                    22       10             1              2     1   \n",
       "Rock                   46       15             1             10     1   \n",
       "Soul-RnB                0        1             0              0     0   \n",
       "Spoken                  1        2             0              2     0   \n",
       "\n",
       "Predicted            Old-Time / Historic  Pop  Rock  Soul-RnB  Spoken  \n",
       "Actual                                                                 \n",
       "Blues                                  0    0     4         0       0  \n",
       "Classical                              0    1     0         0       0  \n",
       "Country                                0    0    10         0       0  \n",
       "Easy Listening                         0    0     0         0       0  \n",
       "Electronic                             1    6    59         0       0  \n",
       "Experimental                           2   20   159         2       1  \n",
       "Folk                                   4    5    84         0       0  \n",
       "Hip-Hop                                0    0     7         0       0  \n",
       "Instrumental                          11    6    49         0       0  \n",
       "International                          0    0    11         0       1  \n",
       "Jazz                                   0    0     5         0       0  \n",
       "Old-Time / Historic                   52    1     0         0       0  \n",
       "Pop                                    0    4    56         0       0  \n",
       "Rock                                   0    4  1168         0       3  \n",
       "Soul-RnB                               0    0    21         0       0  \n",
       "Spoken                                 0    1     3         0       6  "
      ]
     },
     "execution_count": 92,
     "metadata": {},
     "output_type": "execute_result"
    }
   ],
   "source": [
    "preds = MLPClassifier(\n",
    "        hidden_layer_sizes= (64, ),\n",
    "        max_iter=400,\n",
    "        warm_start=True,\n",
    "    ).fit(\n",
    "        X_train,\n",
    "        y_train\n",
    "    ).predict(\n",
    "        X_test\n",
    ")\n",
    "\n",
    "conf_matrix = confusion_matrix(\n",
    "        y_test.values,\n",
    "        preds\n",
    "    )\n",
    "    \n",
    "conf_matrix"
   ]
  },
  {
   "cell_type": "code",
   "execution_count": 94,
   "metadata": {},
   "outputs": [],
   "source": [
    "conf_matrix.to_csv(\n",
    "    os.path.join(current_dir, result_dir, 'conf_mat.csv')\n",
    ")"
   ]
  },
  {
   "cell_type": "code",
   "execution_count": 93,
   "metadata": {},
   "outputs": [
    {
     "data": {
      "image/png": "[encoded data removed]",
      "text/plain": [
       "<Figure size 1080x1080 with 2 Axes>"
      ]
     },
     "metadata": {
      "needs_background": "light"
     },
     "output_type": "display_data"
    }
   ],
   "source": [
    "visualize_confusion_matrix(conf_matrix)"
   ]
  },
  {
   "cell_type": "markdown",
   "metadata": {},
   "source": [
    "# Feature Importance"
   ]
  },
  {
   "cell_type": "markdown",
   "metadata": {},
   "source": [
    "## Random Forest Classifier"
   ]
  },
  {
   "cell_type": "code",
   "execution_count": 10,
   "metadata": {},
   "outputs": [],
   "source": [
    "from sklearn.ensemble import (\n",
    "    RandomForestClassifier\n",
    ")\n",
    "forest = RandomForestClassifier(random_state=0)\n",
    "forest.fit(X_train, y_train)\n",
    "importances = forest.feature_importances_\n",
    "std = np.std([tree.feature_importances_ for tree in forest.estimators_], axis=0)"
   ]
  },
  {
   "cell_type": "code",
   "execution_count": 12,
   "metadata": {},
   "outputs": [
    {
     "data": {
      "text/plain": [
       "<BarContainer object of 50 artists>"
      ]
     },
     "execution_count": 12,
     "metadata": {},
     "output_type": "execute_result"
    },
    {
     "data": {
      "image/png": "[encoded data removed]",
      "text/plain": [
       "<Figure size 1296x648 with 1 Axes>"
      ]
     },
     "metadata": {
      "needs_background": "light"
     },
     "output_type": "display_data"
    }
   ],
   "source": [
    "sorted_idx = importances.argsort()\n",
    "\n",
    "\n",
    "plt.figure(figsize = (18, 9))\n",
    "plt.barh(\n",
    "    list(\n",
    "    map(\n",
    "        lambda x: ' '.join(x),\n",
    "        feature_cols[sorted_idx][:50]\n",
    "    )\n",
    "), \n",
    "importances[sorted_idx][:50],\n",
    "color = 'orange'\n",
    ")"
   ]
  },
  {
   "cell_type": "code",
   "execution_count": 13,
   "metadata": {},
   "outputs": [
    {
     "data": {
      "image/png": "[encoded data removed]",
      "text/plain": [
       "<Figure size 1296x432 with 1 Axes>"
      ]
     },
     "metadata": {
      "needs_background": "light"
     },
     "output_type": "display_data"
    }
   ],
   "source": [
    "forest_importances = pd.Series(importances[sorted_idx][:50], index=list(\n",
    "    map(\n",
    "        lambda x: ' '.join(x),\n",
    "        feature_cols[sorted_idx][:50]\n",
    "    )\n",
    ")\n",
    ")\n",
    "\n",
    "\n",
    "\n",
    "fig, ax = plt.subplots(figsize=(18, 6))\n",
    "forest_importances.plot.bar(yerr=std[sorted_idx][:50], ax=ax)\n",
    "ax.set_title(\"Feature importances using MDI\")\n",
    "ax.set_ylabel(\"Mean decrease in impurity\")\n",
    "fig.tight_layout()"
   ]
  },
  {
   "cell_type": "code",
   "execution_count": null,
   "metadata": {},
   "outputs": [],
   "source": []
  }
 ],
 "metadata": {
  "interpreter": {
   "hash": "9550b2e4702a604127c6792d41a2c1591bb93c1211ce8ff3e331d10f2ba3f332"
  },
  "kernelspec": {
   "display_name": "Python 3.9.2 64-bit ('base': conda)",
   "language": "python",
   "name": "python3"
  },
  "language_info": {
   "codemirror_mode": {
    "name": "ipython",
    "version": 3
   },
   "file_extension": ".py",
   "mimetype": "text/x-python",
   "name": "python",
   "nbconvert_exporter": "python",
   "pygments_lexer": "ipython3",
   "version": "3.9.9"
  }
 },
 "nbformat": 4,
 "nbformat_minor": 2
}
